{
  "cells": [
    {
      "cell_type": "markdown",
      "metadata": {
        "id": "Jy4u5Zl-3SMl"
      },
      "source": [
        "# Classificação de Estágios da Doença de Alzheimer"
      ]
    },
    {
      "cell_type": "code",
      "source": [
        "import zipfile\n",
        "import os\n",
        "\n",
        "# arquivo .zip\n",
        "zip_file = \"data.zip\"\n",
        "\n",
        "# Extraia o arquivo\n",
        "with zipfile.ZipFile(zip_file, 'r') as zip_ref:\n",
        "    zip_ref.extractall(\"/data\")\n",
        "    #/data/Alzheimer_MRI_4_classes_dataset"
      ],
      "metadata": {
        "id": "77ER84cS8PdL"
      },
      "execution_count": 8,
      "outputs": []
    },
    {
      "cell_type": "markdown",
      "metadata": {
        "id": "PsTYYfKF3SMn"
      },
      "source": [
        "## HistGradientBoostingClassifier"
      ]
    },
    {
      "cell_type": "markdown",
      "source": [
        "HistGradientBoostingClassifier é um classificador da biblioteca skLearn, sendo uma das suas implementações de árvores com gradiente reforçado.\n",
        "Esse classificador usa uma estrutura de dados chamada histograma, onde as amostras são ordenadas implicitamente. A construção de um histograma tem uma\n",
        "complexidade O(n) [1], então o procedimento de divisão de nós tem uma\n",
        "complexidade O(n_features x n).\n",
        "\n",
        "O modelo foi escolhido por suportar classificação de múltiplas classes e por ter pontuação de teste e velocidade de treinamento, de forma geral, melhores quando comparados a outros classificadores como o RandomForest [2]."
      ],
      "metadata": {
        "id": "qhXLWgHuEHBo"
      }
    },
    {
      "cell_type": "markdown",
      "metadata": {
        "id": "vXMZ8ze83SMo"
      },
      "source": [
        "### Bibliotecas"
      ]
    },
    {
      "cell_type": "code",
      "execution_count": 9,
      "metadata": {
        "id": "86fy6hy93SMp"
      },
      "outputs": [],
      "source": [
        "import os\n",
        "import numpy as np\n",
        "import random\n",
        "import seaborn as sns\n",
        "import matplotlib.pyplot as plt\n",
        "\n",
        "from PIL import Image\n",
        "from sklearn.ensemble import HistGradientBoostingClassifier\n",
        "from sklearn.svm import SVC\n",
        "from sklearn.model_selection import train_test_split\n",
        "from sklearn.preprocessing import LabelEncoder, label_binarize\n",
        "from sklearn.metrics import classification_report, accuracy_score, roc_auc_score, confusion_matrix, log_loss, cohen_kappa_score, hamming_loss, jaccard_score, matthews_corrcoef\n",
        "from sklearn.decomposition import PCA"
      ]
    },
    {
      "cell_type": "markdown",
      "metadata": {
        "id": "eG0Mn9-m3SMs"
      },
      "source": [
        "### Variáveis iniciais"
      ]
    },
    {
      "cell_type": "code",
      "execution_count": 10,
      "metadata": {
        "id": "mssaW-KU3SMt"
      },
      "outputs": [],
      "source": [
        "# Valor fixo de seed para reprodutibilidade\n",
        "random_seed = 42\n",
        "\n",
        "# Pasta do dataset\n",
        "dataset_folder = \"../data/Alzheimer_MRI_4_classes_dataset\"\n",
        "folders = [\"MildDemented\", \"ModerateDemented\", \"NonDemented\", \"VeryMildDemented\"]\n",
        "\n",
        "# Número máximo de imagens a serem carregadas\n",
        "max_images_per_class = 100"
      ]
    },
    {
      "cell_type": "markdown",
      "metadata": {
        "id": "PEVKRICj3SMu"
      },
      "source": [
        "### Random Seed"
      ]
    },
    {
      "cell_type": "code",
      "source": [
        "random.seed(random_seed)\n",
        "np.random.seed(random_seed)"
      ],
      "metadata": {
        "id": "icUSLdOtNLsL"
      },
      "execution_count": 11,
      "outputs": []
    },
    {
      "cell_type": "markdown",
      "metadata": {
        "id": "qAjKulz63SMv"
      },
      "source": [
        "### Carregar dados"
      ]
    },
    {
      "cell_type": "code",
      "execution_count": 12,
      "metadata": {
        "id": "pnG_uGc33SMw"
      },
      "outputs": [],
      "source": [
        "# Função para carregar e pré-processar as imagens\n",
        "def load_images(dataset_folder, folders, image_size=(128, 128), max_images_per_class=100):\n",
        "    images = []\n",
        "    labels = []\n",
        "    for folder in folders:\n",
        "        folder_path = os.path.join(dataset_folder, folder)\n",
        "        if os.path.exists(folder_path):\n",
        "            count = 0\n",
        "            for img_name in os.listdir(folder_path):\n",
        "                if count >= max_images_per_class:\n",
        "                    break\n",
        "                img_path = os.path.join(folder_path, img_name)\n",
        "                image = Image.open(img_path).convert(\"RGB\")\n",
        "                image = image.resize(image_size)\n",
        "                images.append(np.array(image).flatten())\n",
        "                labels.append(folder)\n",
        "                count += 1\n",
        "    return np.array(images), np.array(labels)"
      ]
    },
    {
      "cell_type": "markdown",
      "metadata": {
        "id": "lyiKXoI73SMz"
      },
      "source": [
        "### Dividir em treino e teste"
      ]
    },
    {
      "cell_type": "code",
      "execution_count": 13,
      "metadata": {
        "id": "SeuXc3-K3SMy"
      },
      "outputs": [],
      "source": [
        "# Carregar as imagens e os rótulos\n",
        "X, y = load_images(dataset_folder, folders, max_images_per_class=max_images_per_class)\n",
        "\n",
        "\n",
        "# Codificar os rótulos\n",
        "label_encoder = LabelEncoder()\n",
        "y_encoded = label_encoder.fit_transform(y)\n",
        "\n",
        "# Dividir os dados em treinamento e teste\n",
        "X_train, X_test, y_train, y_test = train_test_split(X, y_encoded, test_size=0.2, random_state=56)"
      ]
    },
    {
      "cell_type": "markdown",
      "metadata": {
        "id": "GzJBCbrp3SM3"
      },
      "source": [
        "### Treinar o modelo"
      ]
    },
    {
      "cell_type": "code",
      "source": [
        "# Criando o classificador escolhido\n",
        "clf = HistGradientBoostingClassifier(random_state=88)\n",
        "\n",
        "# Treinando o modelo\n",
        "clf.fit(X_train, y_train)\n",
        "\n"
      ],
      "metadata": {
        "colab": {
          "base_uri": "https://localhost:8080/",
          "height": 81
        },
        "id": "UwwRPR91NbTh",
        "outputId": "3a9a5a0f-272b-4f33-f2e2-6954a180739b"
      },
      "execution_count": 14,
      "outputs": [
        {
          "output_type": "execute_result",
          "data": {
            "text/plain": [
              "HistGradientBoostingClassifier(random_state=88)"
            ],
            "text/html": [
              "<style>#sk-container-id-1 {\n",
              "  /* Definition of color scheme common for light and dark mode */\n",
              "  --sklearn-color-text: black;\n",
              "  --sklearn-color-line: gray;\n",
              "  /* Definition of color scheme for unfitted estimators */\n",
              "  --sklearn-color-unfitted-level-0: #fff5e6;\n",
              "  --sklearn-color-unfitted-level-1: #f6e4d2;\n",
              "  --sklearn-color-unfitted-level-2: #ffe0b3;\n",
              "  --sklearn-color-unfitted-level-3: chocolate;\n",
              "  /* Definition of color scheme for fitted estimators */\n",
              "  --sklearn-color-fitted-level-0: #f0f8ff;\n",
              "  --sklearn-color-fitted-level-1: #d4ebff;\n",
              "  --sklearn-color-fitted-level-2: #b3dbfd;\n",
              "  --sklearn-color-fitted-level-3: cornflowerblue;\n",
              "\n",
              "  /* Specific color for light theme */\n",
              "  --sklearn-color-text-on-default-background: var(--sg-text-color, var(--theme-code-foreground, var(--jp-content-font-color1, black)));\n",
              "  --sklearn-color-background: var(--sg-background-color, var(--theme-background, var(--jp-layout-color0, white)));\n",
              "  --sklearn-color-border-box: var(--sg-text-color, var(--theme-code-foreground, var(--jp-content-font-color1, black)));\n",
              "  --sklearn-color-icon: #696969;\n",
              "\n",
              "  @media (prefers-color-scheme: dark) {\n",
              "    /* Redefinition of color scheme for dark theme */\n",
              "    --sklearn-color-text-on-default-background: var(--sg-text-color, var(--theme-code-foreground, var(--jp-content-font-color1, white)));\n",
              "    --sklearn-color-background: var(--sg-background-color, var(--theme-background, var(--jp-layout-color0, #111)));\n",
              "    --sklearn-color-border-box: var(--sg-text-color, var(--theme-code-foreground, var(--jp-content-font-color1, white)));\n",
              "    --sklearn-color-icon: #878787;\n",
              "  }\n",
              "}\n",
              "\n",
              "#sk-container-id-1 {\n",
              "  color: var(--sklearn-color-text);\n",
              "}\n",
              "\n",
              "#sk-container-id-1 pre {\n",
              "  padding: 0;\n",
              "}\n",
              "\n",
              "#sk-container-id-1 input.sk-hidden--visually {\n",
              "  border: 0;\n",
              "  clip: rect(1px 1px 1px 1px);\n",
              "  clip: rect(1px, 1px, 1px, 1px);\n",
              "  height: 1px;\n",
              "  margin: -1px;\n",
              "  overflow: hidden;\n",
              "  padding: 0;\n",
              "  position: absolute;\n",
              "  width: 1px;\n",
              "}\n",
              "\n",
              "#sk-container-id-1 div.sk-dashed-wrapped {\n",
              "  border: 1px dashed var(--sklearn-color-line);\n",
              "  margin: 0 0.4em 0.5em 0.4em;\n",
              "  box-sizing: border-box;\n",
              "  padding-bottom: 0.4em;\n",
              "  background-color: var(--sklearn-color-background);\n",
              "}\n",
              "\n",
              "#sk-container-id-1 div.sk-container {\n",
              "  /* jupyter's `normalize.less` sets `[hidden] { display: none; }`\n",
              "     but bootstrap.min.css set `[hidden] { display: none !important; }`\n",
              "     so we also need the `!important` here to be able to override the\n",
              "     default hidden behavior on the sphinx rendered scikit-learn.org.\n",
              "     See: https://github.com/scikit-learn/scikit-learn/issues/21755 */\n",
              "  display: inline-block !important;\n",
              "  position: relative;\n",
              "}\n",
              "\n",
              "#sk-container-id-1 div.sk-text-repr-fallback {\n",
              "  display: none;\n",
              "}\n",
              "\n",
              "div.sk-parallel-item,\n",
              "div.sk-serial,\n",
              "div.sk-item {\n",
              "  /* draw centered vertical line to link estimators */\n",
              "  background-image: linear-gradient(var(--sklearn-color-text-on-default-background), var(--sklearn-color-text-on-default-background));\n",
              "  background-size: 2px 100%;\n",
              "  background-repeat: no-repeat;\n",
              "  background-position: center center;\n",
              "}\n",
              "\n",
              "/* Parallel-specific style estimator block */\n",
              "\n",
              "#sk-container-id-1 div.sk-parallel-item::after {\n",
              "  content: \"\";\n",
              "  width: 100%;\n",
              "  border-bottom: 2px solid var(--sklearn-color-text-on-default-background);\n",
              "  flex-grow: 1;\n",
              "}\n",
              "\n",
              "#sk-container-id-1 div.sk-parallel {\n",
              "  display: flex;\n",
              "  align-items: stretch;\n",
              "  justify-content: center;\n",
              "  background-color: var(--sklearn-color-background);\n",
              "  position: relative;\n",
              "}\n",
              "\n",
              "#sk-container-id-1 div.sk-parallel-item {\n",
              "  display: flex;\n",
              "  flex-direction: column;\n",
              "}\n",
              "\n",
              "#sk-container-id-1 div.sk-parallel-item:first-child::after {\n",
              "  align-self: flex-end;\n",
              "  width: 50%;\n",
              "}\n",
              "\n",
              "#sk-container-id-1 div.sk-parallel-item:last-child::after {\n",
              "  align-self: flex-start;\n",
              "  width: 50%;\n",
              "}\n",
              "\n",
              "#sk-container-id-1 div.sk-parallel-item:only-child::after {\n",
              "  width: 0;\n",
              "}\n",
              "\n",
              "/* Serial-specific style estimator block */\n",
              "\n",
              "#sk-container-id-1 div.sk-serial {\n",
              "  display: flex;\n",
              "  flex-direction: column;\n",
              "  align-items: center;\n",
              "  background-color: var(--sklearn-color-background);\n",
              "  padding-right: 1em;\n",
              "  padding-left: 1em;\n",
              "}\n",
              "\n",
              "\n",
              "/* Toggleable style: style used for estimator/Pipeline/ColumnTransformer box that is\n",
              "clickable and can be expanded/collapsed.\n",
              "- Pipeline and ColumnTransformer use this feature and define the default style\n",
              "- Estimators will overwrite some part of the style using the `sk-estimator` class\n",
              "*/\n",
              "\n",
              "/* Pipeline and ColumnTransformer style (default) */\n",
              "\n",
              "#sk-container-id-1 div.sk-toggleable {\n",
              "  /* Default theme specific background. It is overwritten whether we have a\n",
              "  specific estimator or a Pipeline/ColumnTransformer */\n",
              "  background-color: var(--sklearn-color-background);\n",
              "}\n",
              "\n",
              "/* Toggleable label */\n",
              "#sk-container-id-1 label.sk-toggleable__label {\n",
              "  cursor: pointer;\n",
              "  display: block;\n",
              "  width: 100%;\n",
              "  margin-bottom: 0;\n",
              "  padding: 0.5em;\n",
              "  box-sizing: border-box;\n",
              "  text-align: center;\n",
              "}\n",
              "\n",
              "#sk-container-id-1 label.sk-toggleable__label-arrow:before {\n",
              "  /* Arrow on the left of the label */\n",
              "  content: \"▸\";\n",
              "  float: left;\n",
              "  margin-right: 0.25em;\n",
              "  color: var(--sklearn-color-icon);\n",
              "}\n",
              "\n",
              "#sk-container-id-1 label.sk-toggleable__label-arrow:hover:before {\n",
              "  color: var(--sklearn-color-text);\n",
              "}\n",
              "\n",
              "/* Toggleable content - dropdown */\n",
              "\n",
              "#sk-container-id-1 div.sk-toggleable__content {\n",
              "  max-height: 0;\n",
              "  max-width: 0;\n",
              "  overflow: hidden;\n",
              "  text-align: left;\n",
              "  /* unfitted */\n",
              "  background-color: var(--sklearn-color-unfitted-level-0);\n",
              "}\n",
              "\n",
              "#sk-container-id-1 div.sk-toggleable__content.fitted {\n",
              "  /* fitted */\n",
              "  background-color: var(--sklearn-color-fitted-level-0);\n",
              "}\n",
              "\n",
              "#sk-container-id-1 div.sk-toggleable__content pre {\n",
              "  margin: 0.2em;\n",
              "  border-radius: 0.25em;\n",
              "  color: var(--sklearn-color-text);\n",
              "  /* unfitted */\n",
              "  background-color: var(--sklearn-color-unfitted-level-0);\n",
              "}\n",
              "\n",
              "#sk-container-id-1 div.sk-toggleable__content.fitted pre {\n",
              "  /* unfitted */\n",
              "  background-color: var(--sklearn-color-fitted-level-0);\n",
              "}\n",
              "\n",
              "#sk-container-id-1 input.sk-toggleable__control:checked~div.sk-toggleable__content {\n",
              "  /* Expand drop-down */\n",
              "  max-height: 200px;\n",
              "  max-width: 100%;\n",
              "  overflow: auto;\n",
              "}\n",
              "\n",
              "#sk-container-id-1 input.sk-toggleable__control:checked~label.sk-toggleable__label-arrow:before {\n",
              "  content: \"▾\";\n",
              "}\n",
              "\n",
              "/* Pipeline/ColumnTransformer-specific style */\n",
              "\n",
              "#sk-container-id-1 div.sk-label input.sk-toggleable__control:checked~label.sk-toggleable__label {\n",
              "  color: var(--sklearn-color-text);\n",
              "  background-color: var(--sklearn-color-unfitted-level-2);\n",
              "}\n",
              "\n",
              "#sk-container-id-1 div.sk-label.fitted input.sk-toggleable__control:checked~label.sk-toggleable__label {\n",
              "  background-color: var(--sklearn-color-fitted-level-2);\n",
              "}\n",
              "\n",
              "/* Estimator-specific style */\n",
              "\n",
              "/* Colorize estimator box */\n",
              "#sk-container-id-1 div.sk-estimator input.sk-toggleable__control:checked~label.sk-toggleable__label {\n",
              "  /* unfitted */\n",
              "  background-color: var(--sklearn-color-unfitted-level-2);\n",
              "}\n",
              "\n",
              "#sk-container-id-1 div.sk-estimator.fitted input.sk-toggleable__control:checked~label.sk-toggleable__label {\n",
              "  /* fitted */\n",
              "  background-color: var(--sklearn-color-fitted-level-2);\n",
              "}\n",
              "\n",
              "#sk-container-id-1 div.sk-label label.sk-toggleable__label,\n",
              "#sk-container-id-1 div.sk-label label {\n",
              "  /* The background is the default theme color */\n",
              "  color: var(--sklearn-color-text-on-default-background);\n",
              "}\n",
              "\n",
              "/* On hover, darken the color of the background */\n",
              "#sk-container-id-1 div.sk-label:hover label.sk-toggleable__label {\n",
              "  color: var(--sklearn-color-text);\n",
              "  background-color: var(--sklearn-color-unfitted-level-2);\n",
              "}\n",
              "\n",
              "/* Label box, darken color on hover, fitted */\n",
              "#sk-container-id-1 div.sk-label.fitted:hover label.sk-toggleable__label.fitted {\n",
              "  color: var(--sklearn-color-text);\n",
              "  background-color: var(--sklearn-color-fitted-level-2);\n",
              "}\n",
              "\n",
              "/* Estimator label */\n",
              "\n",
              "#sk-container-id-1 div.sk-label label {\n",
              "  font-family: monospace;\n",
              "  font-weight: bold;\n",
              "  display: inline-block;\n",
              "  line-height: 1.2em;\n",
              "}\n",
              "\n",
              "#sk-container-id-1 div.sk-label-container {\n",
              "  text-align: center;\n",
              "}\n",
              "\n",
              "/* Estimator-specific */\n",
              "#sk-container-id-1 div.sk-estimator {\n",
              "  font-family: monospace;\n",
              "  border: 1px dotted var(--sklearn-color-border-box);\n",
              "  border-radius: 0.25em;\n",
              "  box-sizing: border-box;\n",
              "  margin-bottom: 0.5em;\n",
              "  /* unfitted */\n",
              "  background-color: var(--sklearn-color-unfitted-level-0);\n",
              "}\n",
              "\n",
              "#sk-container-id-1 div.sk-estimator.fitted {\n",
              "  /* fitted */\n",
              "  background-color: var(--sklearn-color-fitted-level-0);\n",
              "}\n",
              "\n",
              "/* on hover */\n",
              "#sk-container-id-1 div.sk-estimator:hover {\n",
              "  /* unfitted */\n",
              "  background-color: var(--sklearn-color-unfitted-level-2);\n",
              "}\n",
              "\n",
              "#sk-container-id-1 div.sk-estimator.fitted:hover {\n",
              "  /* fitted */\n",
              "  background-color: var(--sklearn-color-fitted-level-2);\n",
              "}\n",
              "\n",
              "/* Specification for estimator info (e.g. \"i\" and \"?\") */\n",
              "\n",
              "/* Common style for \"i\" and \"?\" */\n",
              "\n",
              ".sk-estimator-doc-link,\n",
              "a:link.sk-estimator-doc-link,\n",
              "a:visited.sk-estimator-doc-link {\n",
              "  float: right;\n",
              "  font-size: smaller;\n",
              "  line-height: 1em;\n",
              "  font-family: monospace;\n",
              "  background-color: var(--sklearn-color-background);\n",
              "  border-radius: 1em;\n",
              "  height: 1em;\n",
              "  width: 1em;\n",
              "  text-decoration: none !important;\n",
              "  margin-left: 1ex;\n",
              "  /* unfitted */\n",
              "  border: var(--sklearn-color-unfitted-level-1) 1pt solid;\n",
              "  color: var(--sklearn-color-unfitted-level-1);\n",
              "}\n",
              "\n",
              ".sk-estimator-doc-link.fitted,\n",
              "a:link.sk-estimator-doc-link.fitted,\n",
              "a:visited.sk-estimator-doc-link.fitted {\n",
              "  /* fitted */\n",
              "  border: var(--sklearn-color-fitted-level-1) 1pt solid;\n",
              "  color: var(--sklearn-color-fitted-level-1);\n",
              "}\n",
              "\n",
              "/* On hover */\n",
              "div.sk-estimator:hover .sk-estimator-doc-link:hover,\n",
              ".sk-estimator-doc-link:hover,\n",
              "div.sk-label-container:hover .sk-estimator-doc-link:hover,\n",
              ".sk-estimator-doc-link:hover {\n",
              "  /* unfitted */\n",
              "  background-color: var(--sklearn-color-unfitted-level-3);\n",
              "  color: var(--sklearn-color-background);\n",
              "  text-decoration: none;\n",
              "}\n",
              "\n",
              "div.sk-estimator.fitted:hover .sk-estimator-doc-link.fitted:hover,\n",
              ".sk-estimator-doc-link.fitted:hover,\n",
              "div.sk-label-container:hover .sk-estimator-doc-link.fitted:hover,\n",
              ".sk-estimator-doc-link.fitted:hover {\n",
              "  /* fitted */\n",
              "  background-color: var(--sklearn-color-fitted-level-3);\n",
              "  color: var(--sklearn-color-background);\n",
              "  text-decoration: none;\n",
              "}\n",
              "\n",
              "/* Span, style for the box shown on hovering the info icon */\n",
              ".sk-estimator-doc-link span {\n",
              "  display: none;\n",
              "  z-index: 9999;\n",
              "  position: relative;\n",
              "  font-weight: normal;\n",
              "  right: .2ex;\n",
              "  padding: .5ex;\n",
              "  margin: .5ex;\n",
              "  width: min-content;\n",
              "  min-width: 20ex;\n",
              "  max-width: 50ex;\n",
              "  color: var(--sklearn-color-text);\n",
              "  box-shadow: 2pt 2pt 4pt #999;\n",
              "  /* unfitted */\n",
              "  background: var(--sklearn-color-unfitted-level-0);\n",
              "  border: .5pt solid var(--sklearn-color-unfitted-level-3);\n",
              "}\n",
              "\n",
              ".sk-estimator-doc-link.fitted span {\n",
              "  /* fitted */\n",
              "  background: var(--sklearn-color-fitted-level-0);\n",
              "  border: var(--sklearn-color-fitted-level-3);\n",
              "}\n",
              "\n",
              ".sk-estimator-doc-link:hover span {\n",
              "  display: block;\n",
              "}\n",
              "\n",
              "/* \"?\"-specific style due to the `<a>` HTML tag */\n",
              "\n",
              "#sk-container-id-1 a.estimator_doc_link {\n",
              "  float: right;\n",
              "  font-size: 1rem;\n",
              "  line-height: 1em;\n",
              "  font-family: monospace;\n",
              "  background-color: var(--sklearn-color-background);\n",
              "  border-radius: 1rem;\n",
              "  height: 1rem;\n",
              "  width: 1rem;\n",
              "  text-decoration: none;\n",
              "  /* unfitted */\n",
              "  color: var(--sklearn-color-unfitted-level-1);\n",
              "  border: var(--sklearn-color-unfitted-level-1) 1pt solid;\n",
              "}\n",
              "\n",
              "#sk-container-id-1 a.estimator_doc_link.fitted {\n",
              "  /* fitted */\n",
              "  border: var(--sklearn-color-fitted-level-1) 1pt solid;\n",
              "  color: var(--sklearn-color-fitted-level-1);\n",
              "}\n",
              "\n",
              "/* On hover */\n",
              "#sk-container-id-1 a.estimator_doc_link:hover {\n",
              "  /* unfitted */\n",
              "  background-color: var(--sklearn-color-unfitted-level-3);\n",
              "  color: var(--sklearn-color-background);\n",
              "  text-decoration: none;\n",
              "}\n",
              "\n",
              "#sk-container-id-1 a.estimator_doc_link.fitted:hover {\n",
              "  /* fitted */\n",
              "  background-color: var(--sklearn-color-fitted-level-3);\n",
              "}\n",
              "</style><div id=\"sk-container-id-1\" class=\"sk-top-container\"><div class=\"sk-text-repr-fallback\"><pre>HistGradientBoostingClassifier(random_state=88)</pre><b>In a Jupyter environment, please rerun this cell to show the HTML representation or trust the notebook. <br />On GitHub, the HTML representation is unable to render, please try loading this page with nbviewer.org.</b></div><div class=\"sk-container\" hidden><div class=\"sk-item\"><div class=\"sk-estimator fitted sk-toggleable\"><input class=\"sk-toggleable__control sk-hidden--visually\" id=\"sk-estimator-id-1\" type=\"checkbox\" checked><label for=\"sk-estimator-id-1\" class=\"sk-toggleable__label fitted sk-toggleable__label-arrow fitted\">&nbsp;&nbsp;HistGradientBoostingClassifier<a class=\"sk-estimator-doc-link fitted\" rel=\"noreferrer\" target=\"_blank\" href=\"https://scikit-learn.org/1.5/modules/generated/sklearn.ensemble.HistGradientBoostingClassifier.html\">?<span>Documentation for HistGradientBoostingClassifier</span></a><span class=\"sk-estimator-doc-link fitted\">i<span>Fitted</span></span></label><div class=\"sk-toggleable__content fitted\"><pre>HistGradientBoostingClassifier(random_state=88)</pre></div> </div></div></div></div>"
            ]
          },
          "metadata": {},
          "execution_count": 14
        }
      ]
    },
    {
      "cell_type": "markdown",
      "metadata": {
        "id": "jhiuojMd3SM4"
      },
      "source": [
        "### Predizer utilizando o modelo treinado"
      ]
    },
    {
      "cell_type": "code",
      "source": [
        "# Fazer previsões no conjunto de teste\n",
        "y_pred = clf.predict(X_test)\n",
        "y_pred_proba = clf.predict_proba(X_test)"
      ],
      "metadata": {
        "id": "YnszsSg7Njzx"
      },
      "execution_count": 15,
      "outputs": []
    },
    {
      "cell_type": "code",
      "source": [
        "# Acurácia\n",
        "print(\"Acurácia:\", accuracy_score(y_test, y_pred))"
      ],
      "metadata": {
        "colab": {
          "base_uri": "https://localhost:8080/"
        },
        "id": "ir4qoQcNNrDK",
        "outputId": "cc585fbe-72c0-478f-ac29-692483f920a5"
      },
      "execution_count": 16,
      "outputs": [
        {
          "output_type": "stream",
          "name": "stdout",
          "text": [
            "Acurácia: 0.6575342465753424\n"
          ]
        }
      ]
    },
    {
      "cell_type": "code",
      "source": [
        "print(\"Relatório de classificação:\")\n",
        "print(classification_report(y_test, y_pred, target_names=label_encoder.classes_))"
      ],
      "metadata": {
        "colab": {
          "base_uri": "https://localhost:8080/"
        },
        "id": "Gu0Lk2jrT80k",
        "outputId": "1ca177f7-6842-4d83-d57f-6ea084582210"
      },
      "execution_count": 17,
      "outputs": [
        {
          "output_type": "stream",
          "name": "stdout",
          "text": [
            "Relatório de classificação:\n",
            "                  precision    recall  f1-score   support\n",
            "\n",
            "    MildDemented       0.75      0.72      0.73        25\n",
            "ModerateDemented       0.86      0.86      0.86        14\n",
            "     NonDemented       0.58      0.61      0.59        18\n",
            "VeryMildDemented       0.44      0.44      0.44        16\n",
            "\n",
            "        accuracy                           0.66        73\n",
            "       macro avg       0.66      0.66      0.66        73\n",
            "    weighted avg       0.66      0.66      0.66        73\n",
            "\n"
          ]
        }
      ]
    },
    {
      "cell_type": "markdown",
      "source": [
        "## Alterações e ajustes de hiperparâmetros"
      ],
      "metadata": {
        "id": "a2EbL5HaQzwq"
      }
    },
    {
      "cell_type": "markdown",
      "source": [
        "Como a acurácia e demais métricas do classificador indicam um resultado não muito satisfatório, foram realizados testes alterando alguns dos hiperparâmetros do classificador, avaliando para isso as características específicas do dataset utilizado."
      ],
      "metadata": {
        "id": "gXtb3g_cOLNd"
      }
    },
    {
      "cell_type": "markdown",
      "source": [
        "**1. Estratificação:** Na função responsável por dividir os dados entre treino e teste, foi utilizado o hiperparâmetro stratify=y para garantir que os  conjuntos de treinamento e teste tenham aproximadamente a mesma proporção de representantes de cada classe."
      ],
      "metadata": {
        "id": "2ZmRqpWhPbMe"
      }
    },
    {
      "cell_type": "code",
      "source": [
        "from collections import Counter\n",
        "print(Counter(y_train))\n",
        "# classe 1 desbalanceada quando comparada às demais"
      ],
      "metadata": {
        "colab": {
          "base_uri": "https://localhost:8080/"
        },
        "id": "OAB7vtFYTkCN",
        "outputId": "2dc1233f-0bbf-4cd1-f8b4-2d0c6a6ff825"
      },
      "execution_count": 18,
      "outputs": [
        {
          "output_type": "stream",
          "name": "stdout",
          "text": [
            "Counter({3: 84, 2: 82, 0: 75, 1: 50})\n"
          ]
        }
      ]
    },
    {
      "cell_type": "code",
      "source": [
        "\n",
        "X_train, X_test, y_train, y_test = train_test_split(X, y_encoded, test_size=0.2, stratify=y, random_state=56)\n",
        "\n",
        "clf = HistGradientBoostingClassifier(random_state=88)\n",
        "\n",
        "# Treinando o modelo\n",
        "clf.fit(X_train, y_train)\n",
        "\n",
        "# Previsões no conjunto de teste\n",
        "y_pred = clf.predict(X_test)\n",
        "y_pred_proba = clf.predict_proba(X_test)\n",
        "\n",
        "# Acurácia\n",
        "print(\"Acurácia:\", accuracy_score(y_test, y_pred))\n"
      ],
      "metadata": {
        "id": "wFhDSF5BOgqZ",
        "colab": {
          "base_uri": "https://localhost:8080/"
        },
        "outputId": "ab8fa54e-812a-40f1-fef0-2d42b311bd6f"
      },
      "execution_count": 19,
      "outputs": [
        {
          "output_type": "stream",
          "name": "stdout",
          "text": [
            "Acurácia: 0.726027397260274\n"
          ]
        }
      ]
    },
    {
      "cell_type": "markdown",
      "source": [
        "Este ajuste fez com a acurácia aumentasse de 65.7% para 72.6%"
      ],
      "metadata": {
        "id": "GyHHypQSQ3LF"
      }
    },
    {
      "cell_type": "markdown",
      "source": [
        "**2. Redução de dimensionalidade:**"
      ],
      "metadata": {
        "id": "wXA8QD4dQKsg"
      }
    },
    {
      "cell_type": "code",
      "source": [
        "# Tamanho do conjunto de treinamento\n",
        "print(\"X_train shape:\", X_train.shape)\n",
        "print(\"y_train shape:\", y_train.shape)\n",
        "\n",
        "# Tamanho do conjunto de teste\n",
        "print(\"X_test shape:\", X_test.shape)\n",
        "print(\"y_test shape:\", y_test.shape)"
      ],
      "metadata": {
        "id": "HeG2fp0UV7kV",
        "colab": {
          "base_uri": "https://localhost:8080/"
        },
        "outputId": "6a7264e1-390c-4204-ae7b-25fab1bee9ed"
      },
      "execution_count": 20,
      "outputs": [
        {
          "output_type": "stream",
          "name": "stdout",
          "text": [
            "X_train shape: (291, 49152)\n",
            "y_train shape: (291,)\n",
            "X_test shape: (73, 49152)\n",
            "y_test shape: (73,)\n"
          ]
        }
      ]
    },
    {
      "cell_type": "markdown",
      "source": [
        "Como observado, o tamanho das amostras é muito pequeno quando comparado à quantidade de features consideradas. Além disso, o tempo para execução ultrapassou 8 minutos para as simulações feitas no ambiente do Colab, indicando alto custo computacional do modelo utilzado na classificação. Apesar do HistGradientBoostingClassifier conseguir trabalhar com múltiplas features e não exigir, de forma geral, a aplicação de redução de dimensionalidade, foi realizado a seleção das principais features usando PCA para evitar o uso de uma quantidade excessiva de features."
      ],
      "metadata": {
        "id": "0CAVEgdhVxlR"
      }
    },
    {
      "cell_type": "code",
      "source": [
        "pca = PCA(n_components=0.999)\n",
        "X_train_pca = pca.fit_transform(X_train)\n",
        "X_test_pca = pca.transform(X_test)\n",
        "\n",
        "print(\"Dimensão original:\", X_train.shape)\n",
        "print(\"Dimensão reduzida:\", X_train_pca.shape)\n",
        "\n",
        "# Treinando o modelo com os dados reduzidos\n",
        "clf_pca = HistGradientBoostingClassifier(random_state=88)\n",
        "clf_pca.fit(X_train_pca, y_train)\n",
        "\n",
        "# Previsões no conjunto de teste\n",
        "y_pred_pca = clf_pca.predict(X_test_pca)\n",
        "y_pred_proba_pca = clf_pca.predict_proba(X_test_pca)\n",
        "\n",
        "# Avaliando a acurácia\n",
        "print(\"Acurácia:\", accuracy_score(y_test, y_pred_pca))"
      ],
      "metadata": {
        "id": "CELrEcPeZuHb",
        "colab": {
          "base_uri": "https://localhost:8080/"
        },
        "outputId": "71a32e95-bc9f-482f-d0e7-e83daf4197f9"
      },
      "execution_count": 21,
      "outputs": [
        {
          "output_type": "stream",
          "name": "stdout",
          "text": [
            "Dimensão original: (291, 49152)\n",
            "Dimensão reduzida: (291, 264)\n",
            "Acurácia: 0.7123287671232876\n"
          ]
        }
      ]
    },
    {
      "cell_type": "markdown",
      "source": [
        "A redução de dimensionalidade, mesmo mantendo 0.999 de variância, diminuiu a acurácia do modelo. No entanto, vale observar que a acurácia diminuiu menos de 1%, enquanto o tempo de execução melhorou mais de 97%, o que pode ser um critério considerado a depender dos recursos computacionais disponíveis. Visando manter o modelo com o melhor resultado possível, foi mantido os parâmetros com maior tempo de execução e melhores métricas para análises posteriores e comparação com demais modelos testados no projeto."
      ],
      "metadata": {
        "id": "Z2mRlNXAcimB"
      }
    },
    {
      "cell_type": "markdown",
      "source": [
        "**3. Critério de parada:** Visando reduzir a chance de overfitting, foi usado um limite de iterações realizadas pelo modelo, além de alguns ajustes na taxa de aprendizado e a marcação de early_Stopping como True."
      ],
      "metadata": {
        "id": "UMTFF5xnRX3Q"
      }
    },
    {
      "cell_type": "markdown",
      "metadata": {
        "id": "HWSR46f03SM5"
      },
      "source": [
        "### Métricas"
      ]
    },
    {
      "cell_type": "code",
      "source": [
        "clf_stop = HistGradientBoostingClassifier(\n",
        "    max_iter=300,\n",
        "    learning_rate=0.12,\n",
        "    max_depth=15,\n",
        "    min_samples_leaf=10,\n",
        "    l2_regularization=1.0,\n",
        "    early_stopping=True,\n",
        "    validation_fraction=0.15,\n",
        "    random_state=88\n",
        ")\n",
        "clf_stop.fit(X_train, y_train)\n",
        "\n",
        "# Previsões no conjunto de teste\n",
        "y_pred_stop = clf_stop.predict(X_test)\n",
        "y_pred_proba_stop = clf_stop.predict_proba(X_test)\n"
      ],
      "metadata": {
        "id": "YzzrJZbUeqiC"
      },
      "execution_count": 23,
      "outputs": []
    },
    {
      "cell_type": "code",
      "source": [
        "# Avaliando a acurácia\n",
        "print(\"Acurácia:\", accuracy_score(y_test, y_pred_stop))"
      ],
      "metadata": {
        "colab": {
          "base_uri": "https://localhost:8080/"
        },
        "id": "oOY4p1ver2jX",
        "outputId": "16260f90-073d-4d8a-877a-da4a818e289f"
      },
      "execution_count": 24,
      "outputs": [
        {
          "output_type": "stream",
          "name": "stdout",
          "text": [
            "Acurácia: 0.589041095890411\n"
          ]
        }
      ]
    },
    {
      "cell_type": "markdown",
      "source": [
        "Todos as combinações de parâmetros na função testados resultaram em métricas piores para o modelo. Desta forma, foram mantidos os valores padrão da função."
      ],
      "metadata": {
        "id": "PcoCqeJmg5f_"
      }
    },
    {
      "cell_type": "markdown",
      "source": [
        "De todos os ajustes testados, apenas a inclusão do parâmetro stratify na separação dos conjuntos de treino e teste será considerado."
      ],
      "metadata": {
        "id": "JLvVnVzslutJ"
      }
    },
    {
      "cell_type": "code",
      "source": [
        "# Avaliando a acurácia\n",
        "print(\"Acurácia:\", accuracy_score(y_test, y_pred))"
      ],
      "metadata": {
        "colab": {
          "base_uri": "https://localhost:8080/"
        },
        "id": "jQ8B1w-Jk_UC",
        "outputId": "332a6c87-c9fe-4ba9-d91a-d66bda1557fa"
      },
      "execution_count": 25,
      "outputs": [
        {
          "output_type": "stream",
          "name": "stdout",
          "text": [
            "Acurácia: 0.726027397260274\n"
          ]
        }
      ]
    },
    {
      "cell_type": "code",
      "execution_count": 26,
      "metadata": {
        "colab": {
          "base_uri": "https://localhost:8080/"
        },
        "id": "NZlqnbhf3SM6",
        "outputId": "e8151cbb-6578-4812-e099-fb8ca093e172"
      },
      "outputs": [
        {
          "output_type": "stream",
          "name": "stdout",
          "text": [
            "Relatório de classificação:\n",
            "                  precision    recall  f1-score   support\n",
            "\n",
            "    MildDemented       0.71      0.75      0.73        20\n",
            "ModerateDemented       1.00      1.00      1.00        13\n",
            "     NonDemented       0.64      0.70      0.67        20\n",
            "VeryMildDemented       0.65      0.55      0.59        20\n",
            "\n",
            "        accuracy                           0.73        73\n",
            "       macro avg       0.75      0.75      0.75        73\n",
            "    weighted avg       0.73      0.73      0.72        73\n",
            "\n"
          ]
        }
      ],
      "source": [
        "# Relatório de classificação\n",
        "\n",
        "print(\"Relatório de classificação:\")\n",
        "print(classification_report(y_test, y_pred, target_names=label_encoder.classes_))"
      ]
    },
    {
      "cell_type": "code",
      "execution_count": 27,
      "metadata": {
        "colab": {
          "base_uri": "https://localhost:8080/",
          "height": 766
        },
        "id": "mVlYBnJ_3SM6",
        "outputId": "aa11fedc-73a0-4daf-f96f-0f0de2307dd0"
      },
      "outputs": [
        {
          "output_type": "display_data",
          "data": {
            "text/plain": [
              "<Figure size 700x700 with 2 Axes>"
            ],
            "image/png": "[encoded data removed]"
          },
          "metadata": {}
        }
      ],
      "source": [
        "# Matriz de confusão\n",
        "\n",
        "cm = confusion_matrix(y_test, y_pred)\n",
        "\n",
        "# Plotar a matriz de confusão usando Seaborn com a paleta Set2\n",
        "plt.figure(figsize=(7, 7))\n",
        "sns.heatmap(cm, annot=True, fmt='d', cmap='Blues', xticklabels=label_encoder.classes_, yticklabels=label_encoder.classes_)\n",
        "plt.xlabel('Predito')\n",
        "plt.ylabel('Real')\n",
        "plt.title('Matriz de Confusão')\n",
        "plt.show()"
      ]
    },
    {
      "cell_type": "code",
      "execution_count": 28,
      "metadata": {
        "colab": {
          "base_uri": "https://localhost:8080/"
        },
        "id": "WC547iWg3SM7",
        "outputId": "ed3adc76-e89f-4c17-da62-b81751322119"
      },
      "outputs": [
        {
          "output_type": "stream",
          "name": "stdout",
          "text": [
            "AUC: 0.9023584905660378\n"
          ]
        }
      ],
      "source": [
        "# Área sobre a curva ou AUC para cada classe\n",
        "\n",
        "y_test_binarized = label_binarize(y_test, classes=np.arange(len(folders)))\n",
        "auc = roc_auc_score(y_test_binarized, y_pred_proba, multi_class='ovr')\n",
        "print(\"AUC:\", auc)"
      ]
    },
    {
      "cell_type": "code",
      "execution_count": 29,
      "metadata": {
        "colab": {
          "base_uri": "https://localhost:8080/"
        },
        "id": "g8-CsfPo3SM7",
        "outputId": "ee9f8921-dd61-4138-9921-938cd1a0900b"
      },
      "outputs": [
        {
          "output_type": "stream",
          "name": "stdout",
          "text": [
            "Log Loss: 0.9513104975601648\n"
          ]
        }
      ],
      "source": [
        "# Log Loss (Logarithmic Loss)\n",
        "# Mede a incerteza das previsões. Penaliza previsões incorretas com alta confiança mais severamente do que previsões incorretas com baixa confiança.\n",
        "\n",
        "log_loss_value = log_loss(y_test, y_pred_proba)\n",
        "print(\"Log Loss:\", log_loss_value)"
      ]
    },
    {
      "cell_type": "code",
      "execution_count": 30,
      "metadata": {
        "colab": {
          "base_uri": "https://localhost:8080/"
        },
        "id": "njMy-ASH3SM7",
        "outputId": "61e2c752-9839-4ce9-c420-8c766d29c463"
      },
      "outputs": [
        {
          "output_type": "stream",
          "name": "stdout",
          "text": [
            "Cohen's Kappa: 0.6313131313131313\n"
          ]
        }
      ],
      "source": [
        "# Cohen's Kappa\n",
        "# Mede a concordância entre as previsões do modelo e os rótulos verdadeiros, ajustando para a concordância que ocorre por acaso.\n",
        "\n",
        "kappa = cohen_kappa_score(y_test, y_pred)\n",
        "print(\"Cohen's Kappa:\", kappa)"
      ]
    },
    {
      "cell_type": "code",
      "execution_count": 31,
      "metadata": {
        "colab": {
          "base_uri": "https://localhost:8080/"
        },
        "id": "yEfarDtF3SM8",
        "outputId": "04b0b657-6631-4282-dc9c-d7b06c91319d"
      },
      "outputs": [
        {
          "output_type": "stream",
          "name": "stdout",
          "text": [
            "Hamming Loss: 0.273972602739726\n"
          ]
        }
      ],
      "source": [
        "# Hamming Loss\n",
        "# Mede a fração de rótulos incorretamente previstos. É útil para problemas multilabel.\n",
        "\n",
        "hamming = hamming_loss(y_test, y_pred)\n",
        "print(\"Hamming Loss:\", hamming)"
      ]
    },
    {
      "cell_type": "code",
      "execution_count": 32,
      "metadata": {
        "colab": {
          "base_uri": "https://localhost:8080/"
        },
        "id": "Va3J2KZ73SM8",
        "outputId": "4a69c224-3eda-4b26-e24e-51e03704c2d7"
      },
      "outputs": [
        {
          "output_type": "stream",
          "name": "stdout",
          "text": [
            "Jaccard Index: 0.6249999999999999\n"
          ]
        }
      ],
      "source": [
        "# Jaccard Index\n",
        "# Mede a similaridade entre os conjuntos de rótulos previstos e os rótulos verdadeiros.\n",
        "\n",
        "jaccard = jaccard_score(y_test, y_pred, average='macro')\n",
        "print(\"Jaccard Index:\", jaccard)"
      ]
    },
    {
      "cell_type": "code",
      "execution_count": 33,
      "metadata": {
        "colab": {
          "base_uri": "https://localhost:8080/"
        },
        "id": "fJgRnDHq3SM9",
        "outputId": "5e0f8487-77d1-474d-c8a8-6d19f7b96d94"
      },
      "outputs": [
        {
          "output_type": "stream",
          "name": "stdout",
          "text": [
            "Matthews Correlation Coefficient: 0.6324320565914313\n"
          ]
        }
      ],
      "source": [
        "# Matthews Correlation Coefficient (MCC)\n",
        "# Considera todos os elementos da matriz de confusão e é uma métrica equilibrada que pode ser usada mesmo se as classes tiverem tamanhos muito diferentes.\n",
        "\n",
        "mcc = matthews_corrcoef(y_test, y_pred)\n",
        "print(\"Matthews Correlation Coefficient:\", mcc)"
      ]
    },
    {
      "cell_type": "markdown",
      "source": [
        "## Referências\n",
        "\n",
        "[1] https://scikit-learn.org/stable/modules/ensemble.html#histogram-based-gradient-boosting\n",
        "\n",
        "[2] https://scikit-learn.org/stable/auto_examples/ensemble/plot_forest_hist_grad_boosting_comparison.html#sphx-glr-auto-examples-ensemble-plot-forest-hist-grad-boosting-comparison-py\n"
      ],
      "metadata": {
        "id": "1flK_ML-KvGS"
      }
    }
  ],
  "metadata": {
    "kernelspec": {
      "display_name": "scipy",
      "language": "python",
      "name": "python3"
    },
    "language_info": {
      "codemirror_mode": {
        "name": "ipython",
        "version": 3
      },
      "file_extension": ".py",
      "mimetype": "text/x-python",
      "name": "python",
      "nbconvert_exporter": "python",
      "pygments_lexer": "ipython3",
      "version": "3.11.9"
    },
    "colab": {
      "provenance": []
    }
  },
  "nbformat": 4,
  "nbformat_minor": 0
}