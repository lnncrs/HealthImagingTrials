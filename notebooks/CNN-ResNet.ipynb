{
 "cells": [
  {
   "cell_type": "markdown",
   "metadata": {},
   "source": [
    "# Classificação de Estágios da Doença de Alzheimer"
   ]
  },
  {
   "cell_type": "markdown",
   "metadata": {},
   "source": [
    "## Convolutional Neural Network - ResNet"
   ]
  },
  {
   "cell_type": "markdown",
   "metadata": {},
   "source": [
    "Redes neurais convolucionais (CNN, do inglês Convolutional Neural Network) são um tipo de rede neural do tipo feed-foward regularizada que consegue aprender features via filtros específicos (convoluções).\n",
    "\n",
    "ResNet (Residual Network) é uma arquitetura de rede neural profunda desenvolvida para resolver o problema da degradação em redes muito profundas, onde o aumento do número de camadas pode piorar o desempenho. Ela introduz blocos residuais, que permitem que o sinal de entrada seja \"pulada\" através de uma conexão direta para a camada seguinte, facilitando o treinamento de redes com muitas camadas."
   ]
  },
  {
   "cell_type": "code",
   "execution_count": 164,
   "metadata": {},
   "outputs": [],
   "source": [
    "import os\n",
    "import random\n",
    "import numpy as np\n",
    "import pandas as pd"
   ]
  },
  {
   "cell_type": "code",
   "execution_count": 165,
   "metadata": {},
   "outputs": [],
   "source": [
    "from sklearn.calibration import label_binarize\n",
    "from sklearn.metrics import (\n",
    "    accuracy_score,\n",
    "    classification_report,\n",
    "    cohen_kappa_score,\n",
    "    confusion_matrix,\n",
    "    hamming_loss,\n",
    "    jaccard_score,\n",
    "    log_loss,\n",
    "    matthews_corrcoef,\n",
    "    roc_auc_score,\n",
    ")\n",
    "from sklearn.model_selection import train_test_split\n",
    "from sklearn.preprocessing import LabelEncoder\n",
    "from sklearn.svm import SVC"
   ]
  },
  {
   "cell_type": "code",
   "execution_count": 166,
   "metadata": {},
   "outputs": [],
   "source": [
    "import torch\n",
    "import torch.nn as nn\n",
    "import torch.optim as optim\n",
    "\n",
    "from torch.utils.data import Dataset, DataLoader\n",
    "from torch.utils.data import random_split\n",
    "from torchvision import transforms, models\n",
    "from torchvision.models import ResNet50_Weights"
   ]
  },
  {
   "cell_type": "code",
   "execution_count": 167,
   "metadata": {},
   "outputs": [],
   "source": [
    "from PIL import Image\n",
    "import matplotlib.pyplot as plt\n",
    "import seaborn as sns"
   ]
  },
  {
   "cell_type": "markdown",
   "metadata": {},
   "source": [
    "### Variáveis iniciais"
   ]
  },
  {
   "cell_type": "code",
   "execution_count": 168,
   "metadata": {},
   "outputs": [],
   "source": [
    "# Valor fixo de seed para reprodutibilidade\n",
    "random_seed = 42\n",
    "\n",
    "# Pasta do dataset\n",
    "dataset_folder = \"../data/Alzheimer_MRI_4_classes_dataset\" # Dataset original https://www.kaggle.com/datasets/marcopinamonti/alzheimer-mri-4-classes-dataset?select=Alzheimer_MRI_4_classes_dataset\n",
    "# dataset_folder = \"../data/Alzheimer_s_dataset/AugmentedAlzheimerDataset\" # Dataset aumentado https://data.mendeley.com/datasets/ch87yswbz4/1\n",
    "folders = [\"NonDemented\", \"VeryMildDemented\", \"MildDemented\", \"ModerateDemented\"]\n",
    "\n",
    "# Número máximo de imagens a serem carregadas em cada classe\n",
    "max_images_per_class = 400"
   ]
  },
  {
   "cell_type": "code",
   "execution_count": 169,
   "metadata": {},
   "outputs": [],
   "source": [
    "num_epochs = 50\n",
    "batch_size = 32\n",
    "learning_rate = 0.001"
   ]
  },
  {
   "cell_type": "markdown",
   "metadata": {},
   "source": [
    "### Random Seed"
   ]
  },
  {
   "cell_type": "code",
   "execution_count": 170,
   "metadata": {},
   "outputs": [],
   "source": [
    "# Função para fixar a seed e garantir reprodutibilidade\n",
    "def set_seed(seed=42):\n",
    "    torch.manual_seed(seed)\n",
    "    torch.cuda.manual_seed(seed)\n",
    "    torch.cuda.manual_seed_all(seed)  # Para GPUs múltiplas\n",
    "    np.random.seed(seed)\n",
    "    random.seed(seed)\n",
    "    torch.backends.cudnn.deterministic = True\n",
    "    torch.backends.cudnn.benchmark = False\n",
    "\n",
    "# Chamar a função com o seed desejado\n",
    "set_seed(random_seed)"
   ]
  },
  {
   "cell_type": "markdown",
   "metadata": {},
   "source": [
    "### Carregar dados"
   ]
  },
  {
   "cell_type": "code",
   "execution_count": 171,
   "metadata": {},
   "outputs": [
    {
     "data": {
      "text/plain": [
       "{'NonDemented': 0,\n",
       " 'VeryMildDemented': 1,\n",
       " 'MildDemented': 2,\n",
       " 'ModerateDemented': 3}"
      ]
     },
     "execution_count": 171,
     "metadata": {},
     "output_type": "execute_result"
    }
   ],
   "source": [
    "# Dicionário para mapear pastas (classes) a inteiros\n",
    "class_to_int = {folder: idx for idx, folder in enumerate(folders)}\n",
    "class_to_int"
   ]
  },
  {
   "cell_type": "code",
   "execution_count": 172,
   "metadata": {},
   "outputs": [],
   "source": [
    "# Dataset customizado de imagens\n",
    "class AlzheimerDataset(Dataset):\n",
    "    def __init__(\n",
    "        self, dataset_folder, folders, transform=None, max_images_per_class=100, class_to_idx=None\n",
    "    ):\n",
    "        self.dataset_folder = dataset_folder\n",
    "        self.folders = folders\n",
    "        self.transform = transform\n",
    "        self.max_images_per_class = max_images_per_class\n",
    "        self.class_to_idx = class_to_idx or {folder: idx for idx, folder in enumerate(folders)}\n",
    "\n",
    "        self.images = []\n",
    "        self.labels = []\n",
    "\n",
    "        # Carregar as imagens e os rótulos\n",
    "        for folder in folders:\n",
    "            folder_path = os.path.join(dataset_folder, folder)\n",
    "            if os.path.exists(folder_path):\n",
    "                count = 0\n",
    "                for img_name in os.listdir(folder_path):\n",
    "                    if count >= max_images_per_class:\n",
    "                        break\n",
    "                    img_path = os.path.join(folder_path, img_name)\n",
    "                    try:\n",
    "                        image = Image.open(img_path).convert(\"RGB\")\n",
    "                        label = self.class_to_idx[folder]  # Converter para índice\n",
    "                        if self.transform:\n",
    "                            image = self.transform(image)\n",
    "                        self.images.append(image)\n",
    "                        self.labels.append(label)\n",
    "                        count += 1\n",
    "                    except Exception as e:\n",
    "                        print(f\"Erro ao processar a imagem {img_name}: {e}\")\n",
    "\n",
    "    def __len__(self):\n",
    "        return len(self.images)\n",
    "\n",
    "    def __getitem__(self, idx):\n",
    "        # Retorna a imagem e o rótulo como tensores\n",
    "        return self.images[idx], torch.tensor(self.labels[idx])\n",
    "\n",
    "# Transformação de pré-processamento\n",
    "transform = transforms.Compose(\n",
    "    [\n",
    "        # transforms.Resize((176, 128)),  # Redimensionar para 176x128\n",
    "        transforms.Resize((224, 224)),  # Redimensionar para 224x224\n",
    "        transforms.ToTensor(),  # Converte a imagem para tensor\n",
    "        transforms.Normalize(\n",
    "            mean=[0.485, 0.456, 0.406], std=[0.229, 0.224, 0.225]\n",
    "        ),  # Normalização com valores padrão para ResNet\n",
    "        # transforms.Normalize((0.5,), (0.5,)),  # Normalização\n",
    "    ]\n",
    ")\n",
    "\n",
    "# Criar o dataset\n",
    "train_dataset = AlzheimerDataset(\n",
    "    dataset_folder=dataset_folder,\n",
    "    folders=folders,\n",
    "    transform=transform,\n",
    "    max_images_per_class=max_images_per_class,\n",
    "    class_to_idx=class_to_int,\n",
    ")"
   ]
  },
  {
   "cell_type": "markdown",
   "metadata": {},
   "source": [
    "### Rótulos"
   ]
  },
  {
   "cell_type": "code",
   "execution_count": 173,
   "metadata": {},
   "outputs": [],
   "source": [
    "# Codificar os rótulos\n",
    "# label_encoder = LabelEncoder()\n",
    "# y_encoded = label_encoder.fit_transform(y)"
   ]
  },
  {
   "cell_type": "markdown",
   "metadata": {},
   "source": [
    "### Dividir em treino e teste"
   ]
  },
  {
   "cell_type": "code",
   "execution_count": 174,
   "metadata": {},
   "outputs": [],
   "source": [
    "# Proporção do conjunto de validação\n",
    "val_split_ratio = 0.2\n",
    "\n",
    "# Cálculo dos tamanhos dos conjuntos\n",
    "total_size = len(train_dataset)\n",
    "val_size = int(total_size * val_split_ratio)\n",
    "train_size = total_size - val_size\n",
    "\n",
    "# Divide o dataset em treinamento e validação\n",
    "train_subset, val_subset = random_split(train_dataset, [train_size, val_size])\n",
    "\n",
    "# Cria os DataLoaders\n",
    "train_loader = DataLoader(train_subset, batch_size=batch_size, shuffle=True)\n",
    "val_loader = DataLoader(val_subset, batch_size=batch_size, shuffle=False)  # shuffle=False para validação"
   ]
  },
  {
   "cell_type": "markdown",
   "metadata": {},
   "source": [
    "### Treinar o modelo"
   ]
  },
  {
   "cell_type": "code",
   "execution_count": 175,
   "metadata": {},
   "outputs": [
    {
     "name": "stdout",
     "output_type": "stream",
     "text": [
      "Versão do PyTorch:  2.3.1+cu121\n",
      "CUDA disponível:  True\n",
      "Versão do CUDA:  12.1\n",
      "Device: cuda\n"
     ]
    }
   ],
   "source": [
    "print(\"Versão do PyTorch: \", torch.__version__) # Mostra a versão do PyTorch\n",
    "print(\"CUDA disponível: \", torch.cuda.is_available()) # Confirma se o CUDA está disponível\n",
    "print(\"Versão do CUDA: \", torch.version.cuda) # Mostra a versão do CUDA compatível com o PyTorch\n",
    "\n",
    "# Utilizar GPU se disponível\n",
    "device = torch.device('cuda' if torch.cuda.is_available() else 'cpu')\n",
    "print('Device:', device)"
   ]
  },
  {
   "cell_type": "code",
   "execution_count": 176,
   "metadata": {},
   "outputs": [],
   "source": [
    "# Carregar o ResNet50 (modo obsoleto)\n",
    "# model = models.resnet50(pretrained=True)\n",
    "\n",
    "# Carregar o ResNet50 (modo atual)\n",
    "model = models.resnet50(weights=ResNet50_Weights.DEFAULT)\n",
    "\n",
    "# Congelar as camadas convolucionais (não treinar esses parâmetros)\n",
    "for param in model.parameters():\n",
    "    param.requires_grad = False\n",
    "\n",
    "# Deixe a última camada totalmente conectada (fc) ser treinada\n",
    "for param in model.fc.parameters():\n",
    "    param.requires_grad = True\n",
    "\n",
    "# Ajustar a última camada para o número de classes\n",
    "model.fc = torch.nn.Linear(model.fc.in_features, len(folders))"
   ]
  },
  {
   "cell_type": "code",
   "execution_count": 177,
   "metadata": {},
   "outputs": [],
   "source": [
    "# Definir a função de perda\n",
    "criterion = nn.CrossEntropyLoss()  # Usado para problemas de classificação multiclasse\n",
    "\n",
    "# Definir a função de perda para lidar com classes desbalanceadas\n",
    "# class_weights = [1.0, 1.0, 1.0, 1.0]  # Pesos iniciais para as classes\n",
    "# weights = torch.tensor(class_weights).float().to(device) # Calcular os pesos automaticamente, ou definir valores próprios\n",
    "# criterion = nn.CrossEntropyLoss(weight=weights) # Usado para problemas de classificação multiclasse\n",
    "\n",
    "# Definir o otimizador\n",
    "optimizer = optim.Adam(model.parameters(), lr=learning_rate)  # Otimizador Adam"
   ]
  },
  {
   "cell_type": "code",
   "execution_count": 178,
   "metadata": {},
   "outputs": [
    {
     "name": "stdout",
     "output_type": "stream",
     "text": [
      "Epoch [1/50], Loss: 1.2065, Accuracy: 41.01%\n",
      "Epoch [2/50], Loss: 1.0666, Accuracy: 56.42%\n",
      "Epoch [3/50], Loss: 0.9820, Accuracy: 59.58%\n",
      "Epoch [4/50], Loss: 0.9236, Accuracy: 63.04%\n",
      "Epoch [5/50], Loss: 0.8694, Accuracy: 65.61%\n",
      "Epoch [6/50], Loss: 0.8305, Accuracy: 68.48%\n",
      "Epoch [7/50], Loss: 0.8015, Accuracy: 67.29%\n",
      "Epoch [8/50], Loss: 0.7668, Accuracy: 71.15%\n",
      "Epoch [9/50], Loss: 0.7382, Accuracy: 71.54%\n",
      "Epoch [10/50], Loss: 0.7025, Accuracy: 74.31%\n",
      "Epoch [11/50], Loss: 0.6784, Accuracy: 76.09%\n",
      "Epoch [12/50], Loss: 0.6720, Accuracy: 75.99%\n",
      "Epoch [13/50], Loss: 0.6350, Accuracy: 78.95%\n",
      "Epoch [14/50], Loss: 0.6220, Accuracy: 78.75%\n",
      "Epoch [15/50], Loss: 0.6029, Accuracy: 80.73%\n",
      "Epoch [16/50], Loss: 0.5826, Accuracy: 82.91%\n",
      "Epoch [17/50], Loss: 0.5674, Accuracy: 83.50%\n",
      "Epoch [18/50], Loss: 0.5564, Accuracy: 83.60%\n",
      "Epoch [19/50], Loss: 0.5440, Accuracy: 84.98%\n",
      "Epoch [20/50], Loss: 0.5176, Accuracy: 85.38%\n",
      "Epoch [21/50], Loss: 0.5216, Accuracy: 86.36%\n",
      "Epoch [22/50], Loss: 0.4993, Accuracy: 86.46%\n",
      "Epoch [23/50], Loss: 0.4795, Accuracy: 87.55%\n",
      "Epoch [24/50], Loss: 0.4819, Accuracy: 87.06%\n",
      "Epoch [25/50], Loss: 0.4586, Accuracy: 89.33%\n",
      "Epoch [26/50], Loss: 0.4611, Accuracy: 89.62%\n",
      "Epoch [27/50], Loss: 0.4447, Accuracy: 89.33%\n",
      "Epoch [28/50], Loss: 0.4305, Accuracy: 91.21%\n",
      "Epoch [29/50], Loss: 0.4250, Accuracy: 91.11%\n",
      "Epoch [30/50], Loss: 0.4219, Accuracy: 91.21%\n",
      "Epoch [31/50], Loss: 0.4165, Accuracy: 91.01%\n",
      "Epoch [32/50], Loss: 0.4002, Accuracy: 91.90%\n",
      "Epoch [33/50], Loss: 0.3898, Accuracy: 92.00%\n",
      "Epoch [34/50], Loss: 0.3974, Accuracy: 91.21%\n",
      "Epoch [35/50], Loss: 0.3706, Accuracy: 92.59%\n",
      "Epoch [36/50], Loss: 0.3726, Accuracy: 92.49%\n",
      "Epoch [37/50], Loss: 0.3619, Accuracy: 93.77%\n",
      "Epoch [38/50], Loss: 0.3595, Accuracy: 93.58%\n",
      "Epoch [39/50], Loss: 0.3497, Accuracy: 92.79%\n",
      "Epoch [40/50], Loss: 0.3461, Accuracy: 93.58%\n",
      "Epoch [41/50], Loss: 0.3472, Accuracy: 93.58%\n",
      "Epoch [42/50], Loss: 0.3348, Accuracy: 94.07%\n",
      "Epoch [43/50], Loss: 0.3240, Accuracy: 95.36%\n",
      "Epoch [44/50], Loss: 0.3229, Accuracy: 94.96%\n",
      "Epoch [45/50], Loss: 0.3119, Accuracy: 95.45%\n",
      "Epoch [46/50], Loss: 0.3053, Accuracy: 95.65%\n",
      "Epoch [47/50], Loss: 0.3063, Accuracy: 95.36%\n",
      "Epoch [48/50], Loss: 0.2949, Accuracy: 95.95%\n",
      "Epoch [49/50], Loss: 0.2895, Accuracy: 96.25%\n",
      "Epoch [50/50], Loss: 0.2828, Accuracy: 96.74%\n"
     ]
    }
   ],
   "source": [
    "# Mover para o dispositivo de treino\n",
    "model.to(device)\n",
    "\n",
    "model.train()  # Coloca o modelo no modo de treinamento\n",
    "\n",
    "for epoch in range(num_epochs):\n",
    "    running_loss = 0.0\n",
    "    correct = 0\n",
    "    total = 0\n",
    "\n",
    "    for inputs, labels in train_loader:\n",
    "\n",
    "        # Mover os dados para o dispositivo (GPU/CPU)\n",
    "        inputs, labels = inputs.to(device), labels.to(device)\n",
    "\n",
    "        # Zero os gradientes dos parâmetros do modelo\n",
    "        optimizer.zero_grad()\n",
    "\n",
    "        # Passa os dados pelo modelo\n",
    "        outputs = model(inputs)\n",
    "\n",
    "        # Calcula a perda\n",
    "        loss = criterion(outputs, labels)\n",
    "\n",
    "        # Retropropagação (backpropagation) para atualizar os pesos\n",
    "        loss.backward()\n",
    "\n",
    "        # Atualiza os parâmetros\n",
    "        optimizer.step()\n",
    "\n",
    "        # Predições\n",
    "        _, predicted = torch.max(outputs, 1)\n",
    "\n",
    "        total += labels.size(0)\n",
    "        correct += (predicted == labels).sum().item()\n",
    "\n",
    "        # Acumular a perda para monitoramento\n",
    "        running_loss += loss.item()\n",
    "\n",
    "    # Métricas de treinamento\n",
    "    epoch_loss = running_loss / len(train_loader)\n",
    "    epoch_accuracy = 100 * correct / total\n",
    "\n",
    "    # # Avaliação no conjunto de validação\n",
    "    # model.eval()  # Modo de avaliação\n",
    "    # val_loss = 0.0\n",
    "    # val_correct = 0\n",
    "    # val_total = 0\n",
    "\n",
    "    # # Desativa gradientes para validação\n",
    "    # with torch.no_grad():\n",
    "    #     for val_inputs, val_labels in val_loader:\n",
    "    #         val_inputs, val_labels = val_inputs.to(device), val_labels.to(device)\n",
    "    #         val_outputs = model(val_inputs)\n",
    "    #         val_loss += criterion(val_outputs, val_labels).item()\n",
    "    #         _, val_predicted = torch.max(val_outputs, 1)\n",
    "    #         val_total += val_labels.size(0)\n",
    "    #         val_correct += (val_predicted == val_labels).sum().item()\n",
    "\n",
    "    # val_loss /= len(val_loader)\n",
    "    # val_accuracy = 100 * val_correct / val_total\n",
    "\n",
    "    # print(\n",
    "    #     f\"Epoch [{epoch+1}/{num_epochs}], \"\n",
    "    #     f\"Train Loss: {epoch_loss:.4f}, Train Accuracy: {epoch_accuracy:.2f}%, \"\n",
    "    #     f\"Val Loss: {val_loss:.4f}, Val Accuracy: {val_accuracy:.2f}%\"\n",
    "    # )\n",
    "\n",
    "    # Exibir informações sobre o progresso\n",
    "    epoch_loss = running_loss / len(train_loader)\n",
    "    epoch_accuracy = 100 * correct / total\n",
    "    print(f\"Epoch [{epoch+1}/{num_epochs}], Loss: {epoch_loss:.4f}, Accuracy: {epoch_accuracy:.2f}%\")"
   ]
  },
  {
   "cell_type": "code",
   "execution_count": 179,
   "metadata": {},
   "outputs": [],
   "source": [
    "# Colocar o modelo em modo de avaliação\n",
    "model.eval()\n",
    "\n",
    "# Listas para armazenar os resultados\n",
    "y_true = []\n",
    "y_pred = []\n",
    "y_pred_proba = []\n",
    "\n",
    "# Desativar o cálculo de gradientes para economizar memória\n",
    "with torch.no_grad():\n",
    "    # for inputs, labels in test_loader:\n",
    "    for inputs, labels in val_loader:\n",
    "        # Mover os dados para o dispositivo (GPU/CPU)\n",
    "        inputs, labels = inputs.to(device), labels.to(device)\n",
    "\n",
    "        # Passar os dados pelo modelo\n",
    "        outputs = model(inputs)\n",
    "\n",
    "        # Probabilidades (softmax para obter valores entre 0 e 1)\n",
    "        probabilities = torch.nn.functional.softmax(outputs, dim=1)\n",
    "        y_pred_proba.extend(probabilities.cpu().numpy())  # Convertendo para NumPy\n",
    "\n",
    "        # Predições (classe com maior probabilidade)\n",
    "        _, predicted = torch.max(outputs, 1)\n",
    "        y_pred.extend(predicted.cpu().numpy())\n",
    "        y_true.extend(labels.cpu().numpy())\n",
    "\n",
    "# Converter listas para arrays NumPy\n",
    "y_true = np.array(y_true)\n",
    "y_pred = np.array(y_pred)"
   ]
  },
  {
   "cell_type": "code",
   "execution_count": 180,
   "metadata": {},
   "outputs": [],
   "source": [
    "y_test = y_true\n",
    "# target_names = folders\n",
    "target_names = [name for name, _ in sorted(class_to_int.items(), key=lambda x: x[1])]"
   ]
  },
  {
   "cell_type": "markdown",
   "metadata": {},
   "source": [
    "### Métricas"
   ]
  },
  {
   "cell_type": "code",
   "execution_count": 181,
   "metadata": {},
   "outputs": [
    {
     "name": "stdout",
     "output_type": "stream",
     "text": [
      "Acurácia: 0.746031746031746\n"
     ]
    }
   ],
   "source": [
    "# Acurácia\n",
    "\n",
    "print(\"Acurácia:\", accuracy_score(y_test, y_pred))"
   ]
  },
  {
   "cell_type": "code",
   "execution_count": 182,
   "metadata": {},
   "outputs": [
    {
     "name": "stdout",
     "output_type": "stream",
     "text": [
      "Relatório de classificação:\n",
      "                  precision    recall  f1-score   support\n",
      "\n",
      "     NonDemented       0.74      0.86      0.79        76\n",
      "VeryMildDemented       0.66      0.56      0.60        70\n",
      "    MildDemented       0.78      0.79      0.78        92\n",
      "ModerateDemented       1.00      0.79      0.88        14\n",
      "\n",
      "        accuracy                           0.75       252\n",
      "       macro avg       0.79      0.75      0.77       252\n",
      "    weighted avg       0.75      0.75      0.74       252\n",
      "\n"
     ]
    }
   ],
   "source": [
    "# Relatório de classificação\n",
    "\n",
    "print(\"Relatório de classificação:\")\n",
    "print(classification_report(y_test, y_pred, target_names=target_names))"
   ]
  },
  {
   "cell_type": "code",
   "execution_count": 183,
   "metadata": {},
   "outputs": [
    {
     "data": {
      "image/png": "[encoded data removed]",
      "text/plain": [
       "<Figure size 1000x700 with 2 Axes>"
      ]
     },
     "metadata": {},
     "output_type": "display_data"
    }
   ],
   "source": [
    "# Matriz de confusão\n",
    "# É uma ferramenta visual que mostra o desempenho do modelo em cada classe\n",
    "\n",
    "cm = confusion_matrix(y_test, y_pred)\n",
    "\n",
    "# Plotar a matriz de confusão usando Seaborn com a paleta Set2\n",
    "plt.figure(figsize=(10, 7))\n",
    "sns.heatmap(cm, annot=True, fmt='d', cmap='Blues', xticklabels=target_names, yticklabels=target_names)\n",
    "plt.xlabel('Predito')\n",
    "plt.ylabel('Real')\n",
    "plt.title('Matriz de Confusão')\n",
    "plt.show()"
   ]
  },
  {
   "cell_type": "code",
   "execution_count": 184,
   "metadata": {},
   "outputs": [
    {
     "name": "stdout",
     "output_type": "stream",
     "text": [
      "AUC: 0.9254006926337128\n"
     ]
    }
   ],
   "source": [
    "# Área sobre a curva ou AUC para cada classe\n",
    "\n",
    "y_test_binarized = label_binarize(y_test, classes=np.arange(len(folders)))\n",
    "auc = roc_auc_score(y_test_binarized, y_pred_proba, multi_class='ovr')\n",
    "print(\"AUC:\", auc)"
   ]
  },
  {
   "cell_type": "code",
   "execution_count": 185,
   "metadata": {},
   "outputs": [
    {
     "name": "stdout",
     "output_type": "stream",
     "text": [
      "Log Loss: 0.6123335582601573\n"
     ]
    },
    {
     "name": "stderr",
     "output_type": "stream",
     "text": [
      "c:\\ProgramData\\Miniconda3\\envs\\scipy\\Lib\\site-packages\\sklearn\\metrics\\_classification.py:2956: UserWarning: The y_pred values do not sum to one. Make sure to pass probabilities.\n",
      "  warnings.warn(\n"
     ]
    }
   ],
   "source": [
    "# Log Loss (Logarithmic Loss)\n",
    "# Mede a incerteza das previsões. Penaliza previsões incorretas com alta confiança mais severamente do que previsões incorretas com baixa confiança.\n",
    "\n",
    "log_loss_value = log_loss(y_test, y_pred_proba)\n",
    "print(\"Log Loss:\", log_loss_value)"
   ]
  },
  {
   "cell_type": "code",
   "execution_count": 186,
   "metadata": {},
   "outputs": [
    {
     "name": "stdout",
     "output_type": "stream",
     "text": [
      "Cohen's Kappa: 0.6324856439704676\n"
     ]
    }
   ],
   "source": [
    "# Cohen's Kappa\n",
    "# Mede a concordância entre as previsões do modelo e os rótulos verdadeiros, ajustando para a concordância que ocorre por acaso.\n",
    "\n",
    "kappa = cohen_kappa_score(y_test, y_pred)\n",
    "print(\"Cohen's Kappa:\", kappa)"
   ]
  },
  {
   "cell_type": "code",
   "execution_count": 187,
   "metadata": {},
   "outputs": [
    {
     "name": "stdout",
     "output_type": "stream",
     "text": [
      "Hamming Loss: 0.25396825396825395\n"
     ]
    }
   ],
   "source": [
    "# Hamming Loss\n",
    "# Mede a fração de rótulos incorretamente previstos. É útil para problemas multilabel.\n",
    "\n",
    "hamming = hamming_loss(y_test, y_pred)\n",
    "print(\"Hamming Loss:\", hamming)"
   ]
  },
  {
   "cell_type": "code",
   "execution_count": 188,
   "metadata": {},
   "outputs": [
    {
     "name": "stdout",
     "output_type": "stream",
     "text": [
      "Jaccard Index: 0.63040774368208\n"
     ]
    }
   ],
   "source": [
    "# Jaccard Index\n",
    "# Mede a similaridade entre os conjuntos de rótulos previstos e os rótulos verdadeiros.\n",
    "\n",
    "jaccard = jaccard_score(y_test, y_pred, average='macro')\n",
    "print(\"Jaccard Index:\", jaccard)"
   ]
  },
  {
   "cell_type": "code",
   "execution_count": 189,
   "metadata": {},
   "outputs": [
    {
     "name": "stdout",
     "output_type": "stream",
     "text": [
      "Matthews Correlation Coefficient: 0.6345250364773867\n"
     ]
    }
   ],
   "source": [
    "# Matthews Correlation Coefficient (MCC)\n",
    "# Considera todos os elementos da matriz de confusão e é uma métrica equilibrada que pode ser usada mesmo se as classes tiverem tamanhos muito diferentes.\n",
    "\n",
    "mcc = matthews_corrcoef(y_test, y_pred)\n",
    "print(\"Matthews Correlation Coefficient:\", mcc)"
   ]
  }
 ],
 "metadata": {
  "kernelspec": {
   "display_name": "scipy",
   "language": "python",
   "name": "python3"
  },
  "language_info": {
   "codemirror_mode": {
    "name": "ipython",
    "version": 3
   },
   "file_extension": ".py",
   "mimetype": "text/x-python",
   "name": "python",
   "nbconvert_exporter": "python",
   "pygments_lexer": "ipython3",
   "version": "3.11.9"
  }
 },
 "nbformat": 4,
 "nbformat_minor": 2
}
